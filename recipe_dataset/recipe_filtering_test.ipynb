{
 "cells": [
  {
   "cell_type": "code",
   "id": "initial_id",
   "metadata": {
    "collapsed": true,
    "ExecuteTime": {
     "end_time": "2024-12-02T10:40:20.687439Z",
     "start_time": "2024-12-02T10:38:56.469126Z"
    }
   },
   "source": [
    "import json\n",
    "\n",
    "import pandas as pd\n",
    "\n",
    "\n",
    "def filter_ingredients(ingredients_string, desired, expected):\n",
    "    # Convert string representation of list to an actual list\n",
    "    try:\n",
    "        ingredients_list = ast.literal_eval(ingredients_string)  # Use ast.literal_eval for safety\n",
    "    except (ValueError, SyntaxError) as e:\n",
    "        print(f\"Error parsing ingredients: {ingredients_string}\\nError: {e}\")\n",
    "        return False  # Return False if the format is incorrect\n",
    "\n",
    "    # Ensure the recipe contains at least 5 ingredients\n",
    "    if len(ingredients_list) < 5:\n",
    "        return False\n",
    "\n",
    "    # Convert each ingredient in the recipe list to lowercase for case-insensitive matching\n",
    "    ingredients_list = [ingredient.lower().strip() for ingredient in ingredients_list]\n",
    "\n",
    "    # Combine desired and expected ingredients\n",
    "    combined_ingredients = expected | desired\n",
    "\n",
    "    # Check if the ingredients in the recipe are a subset of the combined expected and desired ingredients\n",
    "    is_subset = set(ingredients_list).issubset(combined_ingredients)\n",
    "\n",
    "    # Ensure there is at least one ingredient from the desired set\n",
    "    has_desired = any(ingredient in desired for ingredient in ingredients_list)\n",
    "\n",
    "    # Return True if the recipe ingredients are a subset and contain at least one desired ingredient\n",
    "    return is_subset and has_desired\n",
    "\n",
    "\n",
    "# File paths\n",
    "# file_path = '/mnt/home2/recipe_dataset/full_dataset.csv'\n",
    "file_path = 'D:/Programovani/SU2/RecipeNLG_dataset.csv'\n",
    "exp_ing_file = \"expected_ingredients.json\"\n",
    "desired_ing_file = \"desired_ingredients.json\"\n",
    "\n",
    "# Load data\n",
    "try:\n",
    "    df = pd.read_csv(file_path)\n",
    "    print(f\"Total recipes loaded: {len(df)}\")\n",
    "except FileNotFoundError:\n",
    "    print(f\"Error: The file {file_path} was not found.\")\n",
    "    df = pd.DataFrame()\n",
    "\n",
    "\n"
   ],
   "outputs": [
    {
     "name": "stdout",
     "output_type": "stream",
     "text": [
      "Total recipes loaded: 2231142\n"
     ]
    }
   ],
   "execution_count": 1
  },
  {
   "metadata": {
    "ExecuteTime": {
     "end_time": "2024-12-02T10:42:29.768745Z",
     "start_time": "2024-12-02T10:40:22.585679Z"
    }
   },
   "cell_type": "code",
   "source": [
    "import ast\n",
    "\n",
    "# Load expected and desired ingredients\n",
    "try:\n",
    "    with open(exp_ing_file, \"r\") as file:\n",
    "        expected_ing = json.load(file)\n",
    "    expected_ing = set(map(str.lower, expected_ing))\n",
    "\n",
    "    with open(desired_ing_file, \"r\") as file:\n",
    "        desired_ing = json.load(file)\n",
    "    desired_ing = set(map(str.lower, desired_ing))\n",
    "except FileNotFoundError as e:\n",
    "    print(f\"Error loading ingredient files: {e}\")\n",
    "    expected_ing = set()\n",
    "    desired_ing = set()\n",
    "\n",
    "# Proceed if data and ingredients are loaded successfully\n",
    "if not df.empty and expected_ing and desired_ing:\n",
    "    # Apply the function and filter rows\n",
    "    try:\n",
    "        filtered_mask = df['NER'].apply(filter_ingredients, args=(desired_ing, expected_ing))\n",
    "        filtered_recipes = df[filtered_mask].reset_index(drop=True)\n",
    "\n",
    "        # Print the filtered recipes\n",
    "        columns = [\"directions\", \"ingredients\", \"NER\"]\n",
    "        filtered_recipes_subset = filtered_recipes[columns] if not filtered_recipes.empty else pd.DataFrame()\n",
    "\n",
    "        print(filtered_recipes_subset.head())\n",
    "        print(f\"Number of filtered recipes: {len(filtered_recipes_subset)}\")\n",
    "    except KeyError as e:\n",
    "        print(f\"Key error: {e}. Please check if the 'ingredients' column is correctly named.\")\n",
    "else:\n",
    "    print(\"Either the data or ingredient lists could not be loaded successfully.\")\n",
    "\n"
   ],
   "id": "43e68391e78e14d1",
   "outputs": [
    {
     "name": "stdout",
     "output_type": "stream",
     "text": [
      "                                          directions  \\\n",
      "0  [\"Mix 3 tablespoons fat with granulated sugar....   \n",
      "1  [\"Combine water, butter, sugar and salt in sau...   \n",
      "2  [\"Sift flour with baking powder, salt and suga...   \n",
      "3  [\"Chop or cut up in small pieces; let stand at...   \n",
      "4  [\"Combine sugar, eggs, evaporated milk and van...   \n",
      "\n",
      "                                         ingredients  \\\n",
      "0  [\"3 Tbsp. softened butter or margarine\", \"1/2 ...   \n",
      "1  [\"1 c. water\", \"1/2 c. butter\", \"1 tsp. sugar\"...   \n",
      "2  [\"1 c. sifted all-purpose flour\", \"2 tsp. baki...   \n",
      "3  [\"1 head cabbage\", \"1 onion\", \"1 bell pepper\",...   \n",
      "4  [\"6 eggs\", \"1 1/2 c. sugar\", \"1 can evaporated...   \n",
      "\n",
      "                                                 NER  \n",
      "0  [\"butter\", \"sugar\", \"egg\", \"flour\", \"baking po...  \n",
      "1      [\"water\", \"butter\", \"sugar\", \"flour\", \"eggs\"]  \n",
      "2  [\"flour\", \"baking powder\", \"salt\", \"sugar\", \"e...  \n",
      "3  [\"cabbage\", \"onion\", \"bell pepper\", \"tomato\", ...  \n",
      "4          [\"eggs\", \"sugar\", \"milk\", \"milk\", \"milk\"]  \n",
      "Number of filtered recipes: 9842\n"
     ]
    }
   ],
   "execution_count": 2
  },
  {
   "metadata": {
    "ExecuteTime": {
     "end_time": "2024-11-25T17:11:16.806339Z",
     "start_time": "2024-11-25T17:11:15.724049Z"
    }
   },
   "cell_type": "code",
   "source": [
    "# File path to save the filtered recipes\n",
    "output_file_path = \"filtered_recipes_petr.csv\"\n",
    "\n",
    "# Save the filtered DataFrame to a CSV file\n",
    "filtered_recipes_subset.to_csv(output_file_path, index=False)"
   ],
   "id": "d67bcb011d34c94d",
   "outputs": [],
   "execution_count": 5
  },
  {
   "metadata": {
    "ExecuteTime": {
     "end_time": "2024-12-02T10:42:32.189625Z",
     "start_time": "2024-12-02T10:42:31.755438Z"
    }
   },
   "cell_type": "code",
   "source": [
    "desired_ing1 =  {\"chilli pepper\", \"eggplant\", \"lettuce\", \"ginger\", \"chicken\", \"onion\", \"garlic\", \"pasta\", \"eggs\", \"tomato\", \"potato\", \"rice\", \"egg\"}\n",
    "\n",
    "filtered_mask1 = filtered_recipes_subset['NER'].apply(filter_ingredients, args=(desired_ing1, expected_ing))\n",
    "filtered_recipes1 = filtered_recipes_subset[filtered_mask1].reset_index(drop=True)\n",
    "print(filtered_recipes1.head())\n",
    "print(len(filtered_recipes1))"
   ],
   "id": "3d8ba82fed7995ba",
   "outputs": [
    {
     "name": "stdout",
     "output_type": "stream",
     "text": [
      "                                          directions  \\\n",
      "0  [\"Mix 3 tablespoons fat with granulated sugar....   \n",
      "1  [\"Combine water, butter, sugar and salt in sau...   \n",
      "2  [\"Sift flour with baking powder, salt and suga...   \n",
      "3  [\"Combine sugar, eggs, evaporated milk and van...   \n",
      "4  [\"Preheat oven to 425\\u00b0.\", \"Grease a 10-in...   \n",
      "\n",
      "                                         ingredients  \\\n",
      "0  [\"3 Tbsp. softened butter or margarine\", \"1/2 ...   \n",
      "1  [\"1 c. water\", \"1/2 c. butter\", \"1 tsp. sugar\"...   \n",
      "2  [\"1 c. sifted all-purpose flour\", \"2 tsp. baki...   \n",
      "3  [\"6 eggs\", \"1 1/2 c. sugar\", \"1 can evaporated...   \n",
      "4  [\"2 eggs\", \"1/2 c. flour\", \"1/2 c. milk\", \"2 T...   \n",
      "\n",
      "                                                 NER  \n",
      "0  [\"butter\", \"sugar\", \"egg\", \"flour\", \"baking po...  \n",
      "1      [\"water\", \"butter\", \"sugar\", \"flour\", \"eggs\"]  \n",
      "2  [\"flour\", \"baking powder\", \"salt\", \"sugar\", \"e...  \n",
      "3          [\"eggs\", \"sugar\", \"milk\", \"milk\", \"milk\"]  \n",
      "4  [\"eggs\", \"flour\", \"milk\", \"butter\", \"sugar\", \"...  \n",
      "7672\n"
     ]
    }
   ],
   "execution_count": 3
  },
  {
   "metadata": {},
   "cell_type": "markdown",
   "source": "Kód kde chceme, aby vyfiltrované recepty obsahovaly nějakou specifickou ingredienci. Stává se totiž, že se recepty dají poskládat jen z expected ingredinets.",
   "id": "29047102880f51e8"
  },
  {
   "metadata": {
    "ExecuteTime": {
     "end_time": "2024-11-25T17:31:24.327092Z",
     "start_time": "2024-11-25T17:31:24.088421Z"
    }
   },
   "cell_type": "code",
   "source": [
    " # Example of the specially chosen ingredient\n",
    "special_ingredient = \"chicken\"\n",
    "\n",
    "def contains_special_ingredient(ingredients_series, special_ingredient):\n",
    "    try:\n",
    "        # Parse the string representation of the list\n",
    "        ingredients_list = ast.literal_eval(ingredients_series)\n",
    "    except (ValueError, SyntaxError):\n",
    "        return False  # Skip rows with malformed data\n",
    "\n",
    "    # Ensure we work with lowercase and clean ingredient strings\n",
    "    ingredients_list = [ingredient.lower().strip() for ingredient in ingredients_list]\n",
    "\n",
    "    # Check if the special ingredient is present in any form\n",
    "    return any(special_ingredient in ingredient for ingredient in ingredients_list)\n",
    "\n",
    "# Apply the function and filter the DataFrame\n",
    "special_ingredient_filtered_df = filtered_recipes1[filtered_recipes1['NER'].apply(contains_special_ingredient, special_ingredient=special_ingredient)]\n",
    "\n",
    "# Reset the index for the new filtered DataFrame\n",
    "special_ingredient_filtered_df = special_ingredient_filtered_df.reset_index(drop=True)\n",
    "print(special_ingredient_filtered_df.head())"
   ],
   "id": "a4a8d3e2771caba6",
   "outputs": [
    {
     "name": "stdout",
     "output_type": "stream",
     "text": [
      "                                          directions  \\\n",
      "0  [\"Cover chicken with\", \"water.\", \"Salt and pep...   \n",
      "1  [\"Saute onion in oil. Add rice; stir constantl...   \n",
      "2  [\"Combine soy sauce, honey, oil, garlic and Fi...   \n",
      "3  [\"Boil chicken with skin on until done when it...   \n",
      "4  [\"Combine butter and flour. Let cook until but...   \n",
      "\n",
      "                                         ingredients  \\\n",
      "0  [\"2 1/2 lb. chicken, cut up\", \"1 tsp. salt\", \"...   \n",
      "1  [\"2 Tbsp. oil\", \"1 1/2 c. rice (not instant)\",...   \n",
      "2  [\"2/3 c. soy sauce\", \"1/2 c. honey\", \"2 Tbsp. ...   \n",
      "3  [\"chicken\", \"rice\", \"onion\", \"minced garlic\", ...   \n",
      "4  [\"2 c. milk\", \"4 Tbsp. flour\", \"4 Tbsp. butter...   \n",
      "\n",
      "                                                 NER  \n",
      "0  [\"chicken\", \"salt\", \"pepper\", \"flour\", \"milk\",...  \n",
      "1  [\"oil\", \"rice\", \"onion\", \"tomato\", \"garlic\", \"...  \n",
      "2  [\"soy sauce\", \"honey\", \"vegetable oil\", \"garli...  \n",
      "3     [\"chicken\", \"rice\", \"onion\", \"garlic\", \"salt\"]  \n",
      "4  [\"milk\", \"flour\", \"butter\", \"salt\", \"pepper\", ...  \n"
     ]
    }
   ],
   "execution_count": 9
  },
  {
   "metadata": {},
   "cell_type": "markdown",
   "source": "Tady z vyfiltrovaných receptů vezmeme jen ty recepty, které obsahují aspoň 1/3 desired ingreds, ze stejného důvodu jako nad - recepty jdou poskládat jen z expected ingreds. Zde celekem problém, protože recepty co vyšly jsou naprosto random - jen jeden z nich působí normálně.",
   "id": "5f7815e23d66dd11"
  },
  {
   "metadata": {
    "ExecuteTime": {
     "end_time": "2024-11-26T12:21:30.607959Z",
     "start_time": "2024-11-26T12:21:30.239201Z"
    }
   },
   "cell_type": "code",
   "source": [
    "def contains_half_or_more_desired_ingredients(ingredients_series, desired_ing1):\n",
    "\n",
    "    try:\n",
    "        # Convert the string representation of the list to an actual list\n",
    "        ingredients_list = ast.literal_eval(ingredients_series)\n",
    "    except (ValueError, SyntaxError):\n",
    "        return False  # Skip malformed rows\n",
    "\n",
    "    # Convert to lowercase and clean up whitespace for consistent comparison\n",
    "    ingredients_list = [ingredient.lower().strip() for ingredient in ingredients_list]\n",
    "\n",
    "    # Count how many ingredients from the recipe match the desired ingredients\n",
    "    matching_count = sum(1 for ingredient in ingredients_list if any(desired in ingredient for desired in desired_ing1))\n",
    "    \n",
    "    # Check if the count of matching ingredients is at least half the size of the desired ingredients\n",
    "    return matching_count >= len(desired_ing1) *1/3\n",
    "\n",
    "filtered_recipes2 = filtered_recipes1[\n",
    "    filtered_recipes1['NER'].apply(contains_half_or_more_desired_ingredients, args=(desired_ing1,))\n",
    "]\n",
    "\n",
    "# Reset index for clean output\n",
    "filtered_recipes2 = filtered_recipes2.reset_index(drop=True)\n",
    "\n",
    "# Output the result\n",
    "print(f\"Number of recipes containing at least half of the desired ingredients: {len(filtered_recipes2)}\")\n",
    "print(filtered_recipes2.head())"
   ],
   "id": "ce3f15ea63171682",
   "outputs": [
    {
     "name": "stdout",
     "output_type": "stream",
     "text": [
      "Number of recipes containing at least half of the desired ingredients: 4\n",
      "                                          directions  \\\n",
      "0  [\"Saute onion in oil. Add rice; stir constantl...   \n",
      "1  [\"Once you decide on a pan, measure its total ...   \n",
      "2  [\"In microwave, cook chicken livers and fat un...   \n",
      "3  [\"Preheat oven to 400.\", \"Clean chicken and pu...   \n",
      "\n",
      "                                         ingredients  \\\n",
      "0  [\"2 Tbsp. oil\", \"1 1/2 c. rice (not instant)\",...   \n",
      "1  [\"5 eggs\", \"1 1/2 c. milk\", \"1 1/2 c. flour\", ...   \n",
      "2  [\"1 lb chicken liver\", \"3 tablespoons chicken ...   \n",
      "3  [\"8 chicken thighs\", \"2 cups chicken stock or ...   \n",
      "\n",
      "                                                 NER  \n",
      "0  [\"oil\", \"rice\", \"onion\", \"tomato\", \"garlic\", \"...  \n",
      "1  [\"eggs\", \"milk\", \"flour\", \"butter\", \"eggs\", \"m...  \n",
      "2  [\"chicken\", \"chicken\", \"onion\", \"eggs\", \"salt\"...  \n",
      "3  [\"chicken\", \"chicken\", \"salt\", \"pepper\", \"garl...  \n"
     ]
    }
   ],
   "execution_count": 4
  }
 ],
 "metadata": {
  "kernelspec": {
   "display_name": "Python 3",
   "language": "python",
   "name": "python3"
  },
  "language_info": {
   "codemirror_mode": {
    "name": "ipython",
    "version": 2
   },
   "file_extension": ".py",
   "mimetype": "text/x-python",
   "name": "python",
   "nbconvert_exporter": "python",
   "pygments_lexer": "ipython2",
   "version": "2.7.6"
  }
 },
 "nbformat": 4,
 "nbformat_minor": 5
}
