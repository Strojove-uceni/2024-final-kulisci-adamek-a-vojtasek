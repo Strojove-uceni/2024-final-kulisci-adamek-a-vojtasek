{
 "cells": [
  {
   "cell_type": "code",
   "id": "initial_id",
   "metadata": {
    "collapsed": true,
    "ExecuteTime": {
     "end_time": "2024-10-31T14:37:34.708546Z",
     "start_time": "2024-10-31T14:37:34.705035Z"
    }
   },
   "source": "path = \"/mnt/home2/recipe_dataset/full_dataset.csv\"",
   "outputs": [],
   "execution_count": 1
  },
  {
   "metadata": {
    "ExecuteTime": {
     "end_time": "2024-10-31T15:12:28.656859Z",
     "start_time": "2024-10-31T15:12:07.214775Z"
    }
   },
   "cell_type": "code",
   "source": [
    "import pandas as pd\n",
    "import json\n",
    "\n",
    "df = pd.read_csv(path)"
   ],
   "id": "a206e4c4c0fe5e76",
   "outputs": [],
   "execution_count": 69
  },
  {
   "metadata": {
    "ExecuteTime": {
     "end_time": "2024-10-31T14:58:16.383574Z",
     "start_time": "2024-10-31T14:58:16.379099Z"
    }
   },
   "cell_type": "code",
   "source": [
    "json_data = df.to_json(orient=\"records\")\n",
    "data = json.loads(json_data)"
   ],
   "id": "b60ba369fc33faa8",
   "outputs": [],
   "execution_count": 58
  },
  {
   "metadata": {
    "ExecuteTime": {
     "end_time": "2024-10-31T15:01:45.457417Z",
     "start_time": "2024-10-31T15:01:45.444058Z"
    }
   },
   "cell_type": "code",
   "source": "df",
   "id": "b4cf0457a543cf44",
   "outputs": [
    {
     "data": {
      "text/plain": [
       "   Unnamed: 0                     title  \\\n",
       "0           0       No-Bake Nut Cookies   \n",
       "1           1     Jewell Ball'S Chicken   \n",
       "2           2               Creamy Corn   \n",
       "3           3             Chicken Funny   \n",
       "4           4      Reeses Cups(Candy)     \n",
       "5           5  Cheeseburger Potato Soup   \n",
       "6           6       Rhubarb Coffee Cake   \n",
       "7           7            Scalloped Corn   \n",
       "8           8      Nolan'S Pepper Steak   \n",
       "9           9           Millionaire Pie   \n",
       "\n",
       "                                         ingredients  \\\n",
       "0  [\"1 c. firmly packed brown sugar\", \"1/2 c. eva...   \n",
       "1  [\"1 small jar chipped beef, cut up\", \"4 boned ...   \n",
       "2  [\"2 (16 oz.) pkg. frozen corn\", \"1 (8 oz.) pkg...   \n",
       "3  [\"1 large whole chicken\", \"2 (10 1/2 oz.) cans...   \n",
       "4  [\"1 c. peanut butter\", \"3/4 c. graham cracker ...   \n",
       "5  [\"6 baking potatoes\", \"1 lb. of extra lean gro...   \n",
       "6  [\"1 1/2 c. sugar\", \"1/2 c. butter\", \"1 egg\", \"...   \n",
       "7  [\"1 can cream-style corn\", \"1 can whole kernel...   \n",
       "8  [\"1 1/2 lb. round steak (1-inch thick), cut in...   \n",
       "9  [\"1 large container Cool Whip\", \"1 large can c...   \n",
       "\n",
       "                                          directions  \\\n",
       "0  [\"In a heavy 2-quart saucepan, mix brown sugar...   \n",
       "1  [\"Place chipped beef on bottom of baking dish....   \n",
       "2  [\"In a slow cooker, combine all ingredients. C...   \n",
       "3  [\"Boil and debone chicken.\", \"Put bite size pi...   \n",
       "4  [\"Combine first four ingredients and press in ...   \n",
       "5  [\"Wash potatoes; prick several times with a fo...   \n",
       "6  [\"Cream sugar and butter.\", \"Add egg and beat ...   \n",
       "7  [\"Mix together both cans of corn, crackers, eg...   \n",
       "8  [\"Roll steak strips in flour.\", \"Brown in skil...   \n",
       "9  [\"Empty Cool Whip into a bowl.\", \"Drain juice ...   \n",
       "\n",
       "                                              link    source  \\\n",
       "0   www.cookbooks.com/Recipe-Details.aspx?id=44874  Gathered   \n",
       "1  www.cookbooks.com/Recipe-Details.aspx?id=699419  Gathered   \n",
       "2   www.cookbooks.com/Recipe-Details.aspx?id=10570  Gathered   \n",
       "3  www.cookbooks.com/Recipe-Details.aspx?id=897570  Gathered   \n",
       "4  www.cookbooks.com/Recipe-Details.aspx?id=659239  Gathered   \n",
       "5   www.cookbooks.com/Recipe-Details.aspx?id=20115  Gathered   \n",
       "6  www.cookbooks.com/Recipe-Details.aspx?id=210288  Gathered   \n",
       "7  www.cookbooks.com/Recipe-Details.aspx?id=876969  Gathered   \n",
       "8  www.cookbooks.com/Recipe-Details.aspx?id=375254  Gathered   \n",
       "9  www.cookbooks.com/Recipe-Details.aspx?id=794547  Gathered   \n",
       "\n",
       "                                                 NER  \n",
       "0  [\"brown sugar\", \"milk\", \"vanilla\", \"nuts\", \"bu...  \n",
       "1  [\"beef\", \"chicken breasts\", \"cream of mushroom...  \n",
       "2  [\"frozen corn\", \"cream cheese\", \"butter\", \"gar...  \n",
       "3  [\"chicken\", \"chicken gravy\", \"cream of mushroo...  \n",
       "4  [\"peanut butter\", \"graham cracker crumbs\", \"bu...  \n",
       "5  [\"baking potatoes\", \"extra lean ground beef\", ...  \n",
       "6  [\"sugar\", \"butter\", \"egg\", \"buttermilk\", \"flou...  \n",
       "7  [\"cream-style corn\", \"whole kernel corn\", \"cra...  \n",
       "8  [\"tomatoes\", \"water\", \"onions\", \"Worcestershir...  \n",
       "9  [\"pineapple\", \"condensed milk\", \"lemons\", \"pec...  "
      ],
      "text/html": [
       "<div>\n",
       "<style scoped>\n",
       "    .dataframe tbody tr th:only-of-type {\n",
       "        vertical-align: middle;\n",
       "    }\n",
       "\n",
       "    .dataframe tbody tr th {\n",
       "        vertical-align: top;\n",
       "    }\n",
       "\n",
       "    .dataframe thead th {\n",
       "        text-align: right;\n",
       "    }\n",
       "</style>\n",
       "<table border=\"1\" class=\"dataframe\">\n",
       "  <thead>\n",
       "    <tr style=\"text-align: right;\">\n",
       "      <th></th>\n",
       "      <th>Unnamed: 0</th>\n",
       "      <th>title</th>\n",
       "      <th>ingredients</th>\n",
       "      <th>directions</th>\n",
       "      <th>link</th>\n",
       "      <th>source</th>\n",
       "      <th>NER</th>\n",
       "    </tr>\n",
       "  </thead>\n",
       "  <tbody>\n",
       "    <tr>\n",
       "      <th>0</th>\n",
       "      <td>0</td>\n",
       "      <td>No-Bake Nut Cookies</td>\n",
       "      <td>[\"1 c. firmly packed brown sugar\", \"1/2 c. eva...</td>\n",
       "      <td>[\"In a heavy 2-quart saucepan, mix brown sugar...</td>\n",
       "      <td>www.cookbooks.com/Recipe-Details.aspx?id=44874</td>\n",
       "      <td>Gathered</td>\n",
       "      <td>[\"brown sugar\", \"milk\", \"vanilla\", \"nuts\", \"bu...</td>\n",
       "    </tr>\n",
       "    <tr>\n",
       "      <th>1</th>\n",
       "      <td>1</td>\n",
       "      <td>Jewell Ball'S Chicken</td>\n",
       "      <td>[\"1 small jar chipped beef, cut up\", \"4 boned ...</td>\n",
       "      <td>[\"Place chipped beef on bottom of baking dish....</td>\n",
       "      <td>www.cookbooks.com/Recipe-Details.aspx?id=699419</td>\n",
       "      <td>Gathered</td>\n",
       "      <td>[\"beef\", \"chicken breasts\", \"cream of mushroom...</td>\n",
       "    </tr>\n",
       "    <tr>\n",
       "      <th>2</th>\n",
       "      <td>2</td>\n",
       "      <td>Creamy Corn</td>\n",
       "      <td>[\"2 (16 oz.) pkg. frozen corn\", \"1 (8 oz.) pkg...</td>\n",
       "      <td>[\"In a slow cooker, combine all ingredients. C...</td>\n",
       "      <td>www.cookbooks.com/Recipe-Details.aspx?id=10570</td>\n",
       "      <td>Gathered</td>\n",
       "      <td>[\"frozen corn\", \"cream cheese\", \"butter\", \"gar...</td>\n",
       "    </tr>\n",
       "    <tr>\n",
       "      <th>3</th>\n",
       "      <td>3</td>\n",
       "      <td>Chicken Funny</td>\n",
       "      <td>[\"1 large whole chicken\", \"2 (10 1/2 oz.) cans...</td>\n",
       "      <td>[\"Boil and debone chicken.\", \"Put bite size pi...</td>\n",
       "      <td>www.cookbooks.com/Recipe-Details.aspx?id=897570</td>\n",
       "      <td>Gathered</td>\n",
       "      <td>[\"chicken\", \"chicken gravy\", \"cream of mushroo...</td>\n",
       "    </tr>\n",
       "    <tr>\n",
       "      <th>4</th>\n",
       "      <td>4</td>\n",
       "      <td>Reeses Cups(Candy)</td>\n",
       "      <td>[\"1 c. peanut butter\", \"3/4 c. graham cracker ...</td>\n",
       "      <td>[\"Combine first four ingredients and press in ...</td>\n",
       "      <td>www.cookbooks.com/Recipe-Details.aspx?id=659239</td>\n",
       "      <td>Gathered</td>\n",
       "      <td>[\"peanut butter\", \"graham cracker crumbs\", \"bu...</td>\n",
       "    </tr>\n",
       "    <tr>\n",
       "      <th>5</th>\n",
       "      <td>5</td>\n",
       "      <td>Cheeseburger Potato Soup</td>\n",
       "      <td>[\"6 baking potatoes\", \"1 lb. of extra lean gro...</td>\n",
       "      <td>[\"Wash potatoes; prick several times with a fo...</td>\n",
       "      <td>www.cookbooks.com/Recipe-Details.aspx?id=20115</td>\n",
       "      <td>Gathered</td>\n",
       "      <td>[\"baking potatoes\", \"extra lean ground beef\", ...</td>\n",
       "    </tr>\n",
       "    <tr>\n",
       "      <th>6</th>\n",
       "      <td>6</td>\n",
       "      <td>Rhubarb Coffee Cake</td>\n",
       "      <td>[\"1 1/2 c. sugar\", \"1/2 c. butter\", \"1 egg\", \"...</td>\n",
       "      <td>[\"Cream sugar and butter.\", \"Add egg and beat ...</td>\n",
       "      <td>www.cookbooks.com/Recipe-Details.aspx?id=210288</td>\n",
       "      <td>Gathered</td>\n",
       "      <td>[\"sugar\", \"butter\", \"egg\", \"buttermilk\", \"flou...</td>\n",
       "    </tr>\n",
       "    <tr>\n",
       "      <th>7</th>\n",
       "      <td>7</td>\n",
       "      <td>Scalloped Corn</td>\n",
       "      <td>[\"1 can cream-style corn\", \"1 can whole kernel...</td>\n",
       "      <td>[\"Mix together both cans of corn, crackers, eg...</td>\n",
       "      <td>www.cookbooks.com/Recipe-Details.aspx?id=876969</td>\n",
       "      <td>Gathered</td>\n",
       "      <td>[\"cream-style corn\", \"whole kernel corn\", \"cra...</td>\n",
       "    </tr>\n",
       "    <tr>\n",
       "      <th>8</th>\n",
       "      <td>8</td>\n",
       "      <td>Nolan'S Pepper Steak</td>\n",
       "      <td>[\"1 1/2 lb. round steak (1-inch thick), cut in...</td>\n",
       "      <td>[\"Roll steak strips in flour.\", \"Brown in skil...</td>\n",
       "      <td>www.cookbooks.com/Recipe-Details.aspx?id=375254</td>\n",
       "      <td>Gathered</td>\n",
       "      <td>[\"tomatoes\", \"water\", \"onions\", \"Worcestershir...</td>\n",
       "    </tr>\n",
       "    <tr>\n",
       "      <th>9</th>\n",
       "      <td>9</td>\n",
       "      <td>Millionaire Pie</td>\n",
       "      <td>[\"1 large container Cool Whip\", \"1 large can c...</td>\n",
       "      <td>[\"Empty Cool Whip into a bowl.\", \"Drain juice ...</td>\n",
       "      <td>www.cookbooks.com/Recipe-Details.aspx?id=794547</td>\n",
       "      <td>Gathered</td>\n",
       "      <td>[\"pineapple\", \"condensed milk\", \"lemons\", \"pec...</td>\n",
       "    </tr>\n",
       "  </tbody>\n",
       "</table>\n",
       "</div>"
      ]
     },
     "execution_count": 68,
     "metadata": {},
     "output_type": "execute_result"
    }
   ],
   "execution_count": 68
  },
  {
   "metadata": {
    "ExecuteTime": {
     "end_time": "2024-10-31T14:50:08.956962Z",
     "start_time": "2024-10-31T14:50:08.949390Z"
    }
   },
   "cell_type": "code",
   "source": "",
   "id": "f40df06451a72db3",
   "outputs": [
    {
     "name": "stderr",
     "output_type": "stream",
     "text": [
      "/tmp/ipykernel_3903/2364109065.py:3: SettingWithCopyWarning: \n",
      "A value is trying to be set on a copy of a slice from a DataFrame\n",
      "\n",
      "See the caveats in the documentation: https://pandas.pydata.org/pandas-docs/stable/user_guide/indexing.html#returning-a-view-versus-a-copy\n",
      "  df[\"ingredients\"][i] = json.loads(df[\"ingredients\"][i])\n",
      "/tmp/ipykernel_3903/2364109065.py:3: SettingWithCopyWarning: \n",
      "A value is trying to be set on a copy of a slice from a DataFrame\n",
      "\n",
      "See the caveats in the documentation: https://pandas.pydata.org/pandas-docs/stable/user_guide/indexing.html#returning-a-view-versus-a-copy\n",
      "  df[\"ingredients\"][i] = json.loads(df[\"ingredients\"][i])\n",
      "/tmp/ipykernel_3903/2364109065.py:3: SettingWithCopyWarning: \n",
      "A value is trying to be set on a copy of a slice from a DataFrame\n",
      "\n",
      "See the caveats in the documentation: https://pandas.pydata.org/pandas-docs/stable/user_guide/indexing.html#returning-a-view-versus-a-copy\n",
      "  df[\"ingredients\"][i] = json.loads(df[\"ingredients\"][i])\n",
      "/tmp/ipykernel_3903/2364109065.py:3: SettingWithCopyWarning: \n",
      "A value is trying to be set on a copy of a slice from a DataFrame\n",
      "\n",
      "See the caveats in the documentation: https://pandas.pydata.org/pandas-docs/stable/user_guide/indexing.html#returning-a-view-versus-a-copy\n",
      "  df[\"ingredients\"][i] = json.loads(df[\"ingredients\"][i])\n",
      "/tmp/ipykernel_3903/2364109065.py:3: SettingWithCopyWarning: \n",
      "A value is trying to be set on a copy of a slice from a DataFrame\n",
      "\n",
      "See the caveats in the documentation: https://pandas.pydata.org/pandas-docs/stable/user_guide/indexing.html#returning-a-view-versus-a-copy\n",
      "  df[\"ingredients\"][i] = json.loads(df[\"ingredients\"][i])\n",
      "/tmp/ipykernel_3903/2364109065.py:3: SettingWithCopyWarning: \n",
      "A value is trying to be set on a copy of a slice from a DataFrame\n",
      "\n",
      "See the caveats in the documentation: https://pandas.pydata.org/pandas-docs/stable/user_guide/indexing.html#returning-a-view-versus-a-copy\n",
      "  df[\"ingredients\"][i] = json.loads(df[\"ingredients\"][i])\n",
      "/tmp/ipykernel_3903/2364109065.py:3: SettingWithCopyWarning: \n",
      "A value is trying to be set on a copy of a slice from a DataFrame\n",
      "\n",
      "See the caveats in the documentation: https://pandas.pydata.org/pandas-docs/stable/user_guide/indexing.html#returning-a-view-versus-a-copy\n",
      "  df[\"ingredients\"][i] = json.loads(df[\"ingredients\"][i])\n",
      "/tmp/ipykernel_3903/2364109065.py:3: SettingWithCopyWarning: \n",
      "A value is trying to be set on a copy of a slice from a DataFrame\n",
      "\n",
      "See the caveats in the documentation: https://pandas.pydata.org/pandas-docs/stable/user_guide/indexing.html#returning-a-view-versus-a-copy\n",
      "  df[\"ingredients\"][i] = json.loads(df[\"ingredients\"][i])\n",
      "/tmp/ipykernel_3903/2364109065.py:3: SettingWithCopyWarning: \n",
      "A value is trying to be set on a copy of a slice from a DataFrame\n",
      "\n",
      "See the caveats in the documentation: https://pandas.pydata.org/pandas-docs/stable/user_guide/indexing.html#returning-a-view-versus-a-copy\n",
      "  df[\"ingredients\"][i] = json.loads(df[\"ingredients\"][i])\n",
      "/tmp/ipykernel_3903/2364109065.py:3: SettingWithCopyWarning: \n",
      "A value is trying to be set on a copy of a slice from a DataFrame\n",
      "\n",
      "See the caveats in the documentation: https://pandas.pydata.org/pandas-docs/stable/user_guide/indexing.html#returning-a-view-versus-a-copy\n",
      "  df[\"ingredients\"][i] = json.loads(df[\"ingredients\"][i])\n"
     ]
    }
   ],
   "execution_count": 37
  },
  {
   "metadata": {
    "ExecuteTime": {
     "end_time": "2024-10-31T14:50:26.915033Z",
     "start_time": "2024-10-31T14:50:26.909284Z"
    }
   },
   "cell_type": "code",
   "source": "df[\"ingredients\"]",
   "id": "57b3f32b6dfe8f0f",
   "outputs": [
    {
     "data": {
      "text/plain": [
       "['1 c. firmly packed brown sugar',\n",
       " '1/2 c. evaporated milk',\n",
       " '1/2 tsp. vanilla',\n",
       " '1/2 c. broken nuts (pecans)',\n",
       " '2 Tbsp. butter or margarine',\n",
       " '3 1/2 c. bite size shredded rice biscuits']"
      ]
     },
     "execution_count": 39,
     "metadata": {},
     "output_type": "execute_result"
    }
   ],
   "execution_count": 39
  }
 ],
 "metadata": {
  "kernelspec": {
   "display_name": "Python 3",
   "language": "python",
   "name": "python3"
  },
  "language_info": {
   "codemirror_mode": {
    "name": "ipython",
    "version": 2
   },
   "file_extension": ".py",
   "mimetype": "text/x-python",
   "name": "python",
   "nbconvert_exporter": "python",
   "pygments_lexer": "ipython2",
   "version": "2.7.6"
  }
 },
 "nbformat": 4,
 "nbformat_minor": 5
}
